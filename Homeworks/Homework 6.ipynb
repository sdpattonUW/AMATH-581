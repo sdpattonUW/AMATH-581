{
 "cells": [
  {
   "cell_type": "code",
   "execution_count": 16,
   "metadata": {},
   "outputs": [
    {
     "ename": "ValueError",
     "evalue": "cannot reshape array of size 12288 into shape (64,64)",
     "output_type": "error",
     "traceback": [
      "\u001b[1;31m---------------------------------------------------------------------------\u001b[0m",
      "\u001b[1;31mValueError\u001b[0m                                Traceback (most recent call last)",
      "Cell \u001b[1;32mIn[16], line 63\u001b[0m\n\u001b[0;32m     60\u001b[0m sol \u001b[38;5;241m=\u001b[39m solve_ivp(rhs, [tspan[\u001b[38;5;241m0\u001b[39m], tspan[\u001b[38;5;241m-\u001b[39m\u001b[38;5;241m1\u001b[39m]], UV0t, t_eval\u001b[38;5;241m=\u001b[39mtspan, args\u001b[38;5;241m=\u001b[39m(nx, ny, N, K, D1, D2, beta))\n\u001b[0;32m     62\u001b[0m \u001b[38;5;28;01mfor\u001b[39;00m i, t \u001b[38;5;129;01min\u001b[39;00m \u001b[38;5;28menumerate\u001b[39m(tspan):\n\u001b[1;32m---> 63\u001b[0m     U_hat, V_hat \u001b[38;5;241m=\u001b[39m sol\u001b[38;5;241m.\u001b[39my[:nx \u001b[38;5;241m*\u001b[39m ny, i]\u001b[38;5;241m.\u001b[39mreshape((nx, ny)), \u001b[43msol\u001b[49m\u001b[38;5;241;43m.\u001b[39;49m\u001b[43my\u001b[49m\u001b[43m[\u001b[49m\u001b[43mnx\u001b[49m\u001b[43m \u001b[49m\u001b[38;5;241;43m*\u001b[39;49m\u001b[43m \u001b[49m\u001b[43mny\u001b[49m\u001b[43m:\u001b[49m\u001b[43m,\u001b[49m\u001b[43m \u001b[49m\u001b[43mi\u001b[49m\u001b[43m]\u001b[49m\u001b[38;5;241;43m.\u001b[39;49m\u001b[43mreshape\u001b[49m\u001b[43m(\u001b[49m\u001b[43m(\u001b[49m\u001b[43mnx\u001b[49m\u001b[43m,\u001b[49m\u001b[43m \u001b[49m\u001b[43mny\u001b[49m\u001b[43m)\u001b[49m\u001b[43m)\u001b[49m\n\u001b[0;32m     64\u001b[0m     U \u001b[38;5;241m=\u001b[39m np\u001b[38;5;241m.\u001b[39mreal(ifft2(U_hat))\n\u001b[0;32m     65\u001b[0m     plt\u001b[38;5;241m.\u001b[39mfigure(figsize\u001b[38;5;241m=\u001b[39m(\u001b[38;5;241m6\u001b[39m, \u001b[38;5;241m5\u001b[39m))\n",
      "\u001b[1;31mValueError\u001b[0m: cannot reshape array of size 12288 into shape (64,64)"
     ]
    }
   ],
   "source": [
    "import numpy as np\n",
    "import matplotlib.pyplot as plt\n",
    "from scipy.fftpack import fft2, ifft2\n",
    "from scipy.integrate import solve_ivp\n",
    "\n",
    "# Initializing Parameters\n",
    "tspan = np.arange(0, 4.5, 0.5) \n",
    "beta = 1\n",
    "D1 = D2 = 0.1\n",
    "Lx, Ly = 20, 20\n",
    "nx, ny = 64, 64\n",
    "N = nx * ny\n",
    "\n",
    "# Defining the spatial domain\n",
    "x2 = np.linspace(-Lx / 2, Lx / 2, nx + 1)\n",
    "x = x2[:nx]\n",
    "y2 = np.linspace(-Ly / 2, Ly / 2, ny + 1)\n",
    "y = y2[:ny]\n",
    "X, Y = np.meshgrid(x, y)\n",
    "\n",
    "#  Initial Conditons\n",
    "m = 1 # Number of spirals\n",
    "U0 = np.tanh(np.sqrt(X**2 + Y**2)) * np.cos(m * np.angle(X + 1j * Y) - np.sqrt(X**2 + Y**2)) + 1j * np.zeros((nx, ny))\n",
    "V0 = np.tanh(np.sqrt(X**2 + Y**2)) * np.sin(m * np.angle(X + 1j * Y) - np.sqrt(X**2 + Y**2)) + 1j * np.zeros((nx, ny))\n",
    "\n",
    "# Define spectral k values\n",
    "kx = (2 * np.pi / Lx) * np.concatenate((np.arange(0, nx / 2), np.arange(-nx / 2, 0)))\n",
    "ky = (2 * np.pi / Ly) * np.concatenate((np.arange(0, ny / 2), np.arange(-ny / 2, 0)))\n",
    "kx[0] = ky[0] = 1e-6\n",
    "KX, KY = np.meshgrid(kx, ky)\n",
    "K = KX**2 + KY**2\n",
    "\n",
    "def rhs(t, UVt, nx, ny, N, K, D1, D2, beta):\n",
    "    # Split U and V\n",
    "    Utc = UVt[:N] + 1j * UVt[N:2*N]\n",
    "    Vtc = UVt[2*N:3*N] + 1j * UVt[3*N:]\n",
    "\n",
    "    Ut = Utc.reshape((nx, ny))\n",
    "    Vt = Vtc.reshape((nx, ny))\n",
    "\n",
    "    U = np.real(ifft2(Ut))\n",
    "    V = np.real(ifft2(Vt))\n",
    "\n",
    "    A_squared = U**2 + V**2\n",
    "    lambda_A = 1 - A_squared\n",
    "    omega_A = -beta * A_squared\n",
    "\n",
    "    rhs_U = fft2(lambda_A * U - omega_A * V) - D1 * K * Ut\n",
    "    rhs_V = fft2(omega_A * U + lambda_A * V) - D2 * K * Vt\n",
    "\n",
    "    return np.hstack([np.real(rhs_U).ravel(), np.imag(rhs_U).ravel(),\n",
    "                      np.real(rhs_V).ravel(), np.imag(rhs_V).ravel()])\n",
    "\n",
    "U0t = fft2(U0)\n",
    "V0t = fft2(V0)\n",
    "UV0t = np.hstack([np.real(U0t).ravel(), np.imag(U0t).ravel(),\n",
    "                    np.real(V0t).ravel(), np.imag(V0t).ravel()])\n",
    "\n",
    "\n",
    "sol = solve_ivp(rhs, [tspan[0], tspan[-1]], UV0t, t_eval=tspan, args=(nx, ny, N, K, D1, D2, beta))\n",
    "\n",
    "for i, t in enumerate(tspan):\n",
    "    U_hat, V_hat = sol.y[:nx * ny, i].reshape((nx, ny)), sol.y[nx * ny:, i].reshape((nx, ny))\n",
    "    U = np.real(ifft2(U_hat))\n",
    "    plt.figure(figsize=(6, 5))\n",
    "    plt.pcolor(x, y, U, shading='auto')\n",
    "    plt.title(f'Time: {t:.2f}')\n",
    "    plt.colorbar(label='U')\n",
    "    plt.xlabel('x')\n",
    "    plt.ylabel('y')\n",
    "    plt.show()\n",
    "\n"
   ]
  }
 ],
 "metadata": {
  "kernelspec": {
   "display_name": "Python 3",
   "language": "python",
   "name": "python3"
  },
  "language_info": {
   "codemirror_mode": {
    "name": "ipython",
    "version": 3
   },
   "file_extension": ".py",
   "mimetype": "text/x-python",
   "name": "python",
   "nbconvert_exporter": "python",
   "pygments_lexer": "ipython3",
   "version": "3.12.7"
  }
 },
 "nbformat": 4,
 "nbformat_minor": 2
}
